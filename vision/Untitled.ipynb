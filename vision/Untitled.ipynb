{
 "cells": [
  {
   "cell_type": "code",
   "execution_count": 36,
   "metadata": {},
   "outputs": [],
   "source": [
    "import json\n",
    "\n",
    "data = {}\n",
    "data['filters'] = []\n",
    "\n",
    "data['filters'].append({\n",
    "    'name': 'inrange',\n",
    "    'long_name' : 'in range',\n",
    "    'l1': '57',\n",
    "    'l2': '150',\n",
    "    'l3': '110',\n",
    "    'h1': '67',\n",
    "    'h2': '160',\n",
    "    'h3': '120'\n",
    "})\n",
    "\n",
    "data['filters'].append({\n",
    "    'name': 'max_area_cc_bbox',\n",
    "    'long_name' : 'maximal area connected component bounding box extraction',\n",
    "})\n",
    "\n",
    "with open('basket_detector.txt', 'w') as outfile:\n",
    "    json.dump(data, outfile)"
   ]
  },
  {
   "cell_type": "code",
   "execution_count": 38,
   "metadata": {},
   "outputs": [
    {
     "name": "stdout",
     "output_type": "stream",
     "text": [
      "inrange\n",
      "max_area_cc_bbox\n"
     ]
    }
   ],
   "source": [
    "import json\n",
    "with open('basket_detector.txt') as f:\n",
    "    data = json.load(f)\n",
    "\n",
    "for a in data [\"filters\"]:\n",
    "    print (a [\"name\"])"
   ]
  },
  {
   "cell_type": "code",
   "execution_count": null,
   "metadata": {},
   "outputs": [],
   "source": []
  }
 ],
 "metadata": {
  "kernelspec": {
   "display_name": "Python 3",
   "language": "python",
   "name": "python3"
  },
  "language_info": {
   "codemirror_mode": {
    "name": "ipython",
    "version": 3
   },
   "file_extension": ".py",
   "mimetype": "text/x-python",
   "name": "python",
   "nbconvert_exporter": "python",
   "pygments_lexer": "ipython3",
   "version": "3.7.3"
  }
 },
 "nbformat": 4,
 "nbformat_minor": 2
}
